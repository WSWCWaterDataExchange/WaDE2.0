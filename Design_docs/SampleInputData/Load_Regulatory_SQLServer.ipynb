{
 "cells": [
  {
   "cell_type": "markdown",
   "metadata": {},
   "source": [
    "## Python 3.6 script that reads CSV input file for Regulatory data and loads in into SQL Server Database (WaDE)\n",
    "Adel Abdallah, Feb 2019"
   ]
  },
  {
   "cell_type": "code",
   "execution_count": 7,
   "metadata": {},
   "outputs": [
    {
     "name": "stdout",
     "output_type": "stream",
     "text": [
      "Done importing libraries\n"
     ]
    }
   ],
   "source": [
    "# import the needed Python libraries\n",
    "import pandas as pd\n",
    "import pyodbc\n",
    "from sqlalchemy import create_engine\n",
    "import urllib\n",
    "import pandas as pd\n",
    "\n",
    "print ('Done importing libraries')"
   ]
  },
  {
   "cell_type": "code",
   "execution_count": 8,
   "metadata": {},
   "outputs": [
    {
     "name": "stdout",
     "output_type": "stream",
     "text": [
      "Done reading\n"
     ]
    }
   ],
   "source": [
    "# Read the CSV files into panads dataframes for each table in WaDE 2.0\n",
    "\n",
    "RegulatoryReportingUnits = pd.read_csv(\"Regulatory/CSV/RegulatoryReportingUnits.csv\")\n",
    "\n",
    "RegulatoryOverlay = pd.read_csv(\"Regulatory/CSV/RegulatoryOverlay.csv\")\n",
    "\n",
    "Organizations = pd.read_csv(\"Regulatory/CSV/Organizations.csv\")\n",
    "\n",
    "ReportingUnits = pd.read_csv(\"Regulatory/CSV/ReportingUnits.csv\")\n",
    "\n",
    "\n",
    "\n",
    "\n",
    "print ('Done reading')"
   ]
  },
  {
   "cell_type": "code",
   "execution_count": 9,
   "metadata": {},
   "outputs": [
    {
     "name": "stdout",
     "output_type": "stream",
     "text": [
      "connected to the SQL Server database\n"
     ]
    }
   ],
   "source": [
    "# connect to the WaDE SQL Server database\n",
    "\n",
    "params = urllib.parse.quote_plus(r'DRIVER={SQL Server};SERVER=localhost\\SQLEXPRESS;DATABASE=WaDE;Trusted_Connection=yes')\n",
    "conn_str = 'mssql+pyodbc:///?odbc_connect={}'.format(params)\n",
    "engine = create_engine(conn_str)\n",
    "\n",
    "# ReportinUnits.to_sql(name='ReportinUnits',con=engine, if_exists='append')\n",
    "\n",
    "sql=\"\"\"SELECT * FROM WaDE.dbo.ReportingUnits\n",
    "\n",
    "\"\"\"\n",
    "\n",
    "\n",
    "print ('connected to the SQL Server database')\n"
   ]
  },
  {
   "cell_type": "code",
   "execution_count": 10,
   "metadata": {},
   "outputs": [
    {
     "name": "stdout",
     "output_type": "stream",
     "text": [
      "Done loading\n"
     ]
    }
   ],
   "source": [
    "# load the tables into the WaDE database \n",
    "Organizations.to_sql('Organizations', engine,if_exists='append',index=False)\n",
    "\n",
    "ReportingUnits.to_sql('ReportingUnits', engine,if_exists='append',index=False)\n",
    "RegulatoryOverlay.to_sql('RegulatoryOverlay', engine,if_exists='append',index=False)\n",
    "\n",
    "RegulatoryReportingUnits.to_sql('RegulatoryReportingUnits', engine,if_exists='append',index=False)\n",
    "\n",
    "print ('Done loading')\n"
   ]
  },
  {
   "cell_type": "code",
   "execution_count": null,
   "metadata": {},
   "outputs": [],
   "source": []
  },
  {
   "cell_type": "code",
   "execution_count": null,
   "metadata": {},
   "outputs": [],
   "source": []
  }
 ],
 "metadata": {
  "kernelspec": {
   "display_name": "Python 3",
   "language": "python",
   "name": "python3"
  },
  "language_info": {
   "codemirror_mode": {
    "name": "ipython",
    "version": 3
   },
   "file_extension": ".py",
   "mimetype": "text/x-python",
   "name": "python",
   "nbconvert_exporter": "python",
   "pygments_lexer": "ipython3",
   "version": "3.7.1"
  }
 },
 "nbformat": 4,
 "nbformat_minor": 2
}
