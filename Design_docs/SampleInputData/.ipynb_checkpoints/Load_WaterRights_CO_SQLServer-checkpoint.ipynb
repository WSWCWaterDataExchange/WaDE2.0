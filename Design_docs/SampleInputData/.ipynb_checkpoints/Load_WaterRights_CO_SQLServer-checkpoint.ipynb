{
 "cells": [
  {
   "cell_type": "markdown",
   "metadata": {},
   "source": [
    "## Python 3.6 script that reads CSV input file for Colorado water rights data and loads in into SQL Server Database (WaDE)\n",
    "Adel Abdallah, Feb 2019"
   ]
  },
  {
   "cell_type": "code",
   "execution_count": null,
   "metadata": {},
   "outputs": [],
   "source": [
    "# import the needed Python libraries\n",
    "import pandas as pd\n",
    "import pyodbc\n",
    "from sqlalchemy import create_engine\n",
    "import urllib\n",
    "import pandas as pd\n",
    "import numpy as np\n",
    "print ('Done importing libraries')"
   ]
  },
  {
   "cell_type": "code",
   "execution_count": null,
   "metadata": {},
   "outputs": [],
   "source": [
    "# connect to the WaDE SQL Server database\n",
    "server = ''\n",
    "database = ''\n",
    "username = ''\n",
    "password = ''\n",
    "\n",
    "conn = pyodbc.connect('DRIVER={ODBC Driver 13 for SQL Server};SERVER='+server+';DATABASE='+database+';UID='+username+';PWD='+password)\n",
    "data_frame = pd.read_sql('''SELECT * FROM [CVs].[ReportYearCV]''', conn)\n",
    "print (data_frame)\n",
    "\n",
    "\n",
    "print ('connected to the SQL Server database')\n"
   ]
  },
  {
   "cell_type": "markdown",
   "metadata": {},
   "source": [
    "# test the upload to the db"
   ]
  },
  {
   "cell_type": "code",
   "execution_count": null,
   "metadata": {},
   "outputs": [],
   "source": [
    "Sites_dim.to_sql('Sites_dim', engine,if_exists='append',index=False)\n"
   ]
  },
  {
   "cell_type": "markdown",
   "metadata": {},
   "source": [
    "# Read the CSV files into panads dataframes for each table in WaDE 2.0\n"
   ]
  },
  {
   "cell_type": "code",
   "execution_count": null,
   "metadata": {},
   "outputs": [],
   "source": [
    "\n",
    "Sites_dim = pd.read_csv(\"Allocations/Colorado/CSV_python_ingester/Sites_dim.csv\")\n",
    "\n",
    "Methods_dim = pd.read_csv(\"Allocations/Colorado/CSV_python_ingester/Methods_dim.csv\")\n",
    "\n",
    "WaterSources_dim = pd.read_csv(\"Allocations/Colorado/CSV_python_ingester/WaterSources_dim.csv\")\n",
    "\n",
    "Date_dim = pd.read_csv(\"Allocations/Colorado/CSV_python_ingester/Date_dim.csv\")\n",
    "\n",
    "Variables_dim = pd.read_csv(\"Allocations/Colorado/CSV_python_ingester/Variables_dim.csv\")\n",
    "\n",
    "Organizations_dim = pd.read_csv(\"Allocations/Colorado/CSV_python_ingester/Organizations_dim.csv\")\n",
    "\n",
    "Allocations_dim = pd.read_csv(\"Allocations/Colorado/CSV_python_ingester/Allocations_dim.csv\")\n",
    "\n",
    "BeneficialUses_dim = pd.read_csv(\"Allocations/CSV_python_ingester/BeneficialUses_dim.csv\")\n",
    "\n",
    "\n",
    "\n",
    "print ('Done reading')"
   ]
  },
  {
   "cell_type": "code",
   "execution_count": null,
   "metadata": {},
   "outputs": [],
   "source": [
    "# load the tables into the WaDE database \n",
    "Sites.to_sql('Sites', engine,if_exists='append',index=False)\n",
    "\n",
    "Methods.to_sql('Methods', engine,if_exists='append',index=False)\n",
    "\n",
    "WaterSources.to_sql('WaterSources', engine,if_exists='append',index=False)\n",
    "\n",
    "Time_dim.to_sql('Time_dim', engine,if_exists='append',index=False)\n",
    "\n",
    "Variables.to_sql('Variables', engine,if_exists='append',index=False)\n",
    "\n",
    "Allocations.to_sql('Allocations', engine,if_exists='append',index=False)\n",
    "\n",
    "AmountMetadata.to_sql('AmountMetadata', engine,if_exists='append',index=False)\n",
    "\n",
    "AllocationAmounts.to_sql('AllocationAmounts', engine,if_exists='append',index=False)\n",
    "\n",
    "print ('Done loading')\n"
   ]
  },
  {
   "cell_type": "code",
   "execution_count": null,
   "metadata": {},
   "outputs": [],
   "source": []
  },
  {
   "cell_type": "code",
   "execution_count": null,
   "metadata": {},
   "outputs": [],
   "source": []
  }
 ],
 "metadata": {
  "kernelspec": {
   "display_name": "Python 3",
   "language": "python",
   "name": "python3"
  },
  "language_info": {
   "codemirror_mode": {
    "name": "ipython",
    "version": 3
   },
   "file_extension": ".py",
   "mimetype": "text/x-python",
   "name": "python",
   "nbconvert_exporter": "python",
   "pygments_lexer": "ipython3",
   "version": "3.7.1"
  }
 },
 "nbformat": 4,
 "nbformat_minor": 2
}
